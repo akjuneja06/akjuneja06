{
  "cells": [
    {
      "cell_type": "markdown",
      "source": [
        "### Java kernal settings"
      ],
      "metadata": {
        "id": "kqy3jzag3DCc"
      }
    },
    {
      "cell_type": "code",
      "metadata": {
        "id": "mm_ZKDGzxH6B",
        "outputId": "abd7d076-516b-4a67-eaee-d533e2807d3a",
        "colab": {
          "base_uri": "https://localhost:8080/"
        }
      },
      "outputs": [
        {
          "output_type": "stream",
          "name": "stdout",
          "text": [
            "  % Total    % Received % Xferd  Average Speed   Time    Time     Time  Current\n",
            "                                 Dload  Upload   Total   Spent    Left  Speed\n",
            "100   155  100   155    0     0    486      0 --:--:-- --:--:-- --:--:--   487\n",
            "fix-colab-gpu.sh: line 5: nvcc: command not found\n"
          ]
        }
      ],
      "source": [
        "!curl -O https://raw.githubusercontent.com/deepjavalibrary/d2l-java/master/tools/fix-colab-gpu.sh && bash fix-colab-gpu.sh"
      ],
      "execution_count": 1
    },
    {
      "cell_type": "code",
      "metadata": {
        "id": "xu4B5X-KxH6H",
        "outputId": "ef8770a2-64d2-4fc1-c84f-8db11f83b24d",
        "colab": {
          "base_uri": "https://localhost:8080/"
        }
      },
      "outputs": [
        {
          "output_type": "stream",
          "name": "stdout",
          "text": [
            "  % Total    % Received % Xferd  Average Speed   Time    Time     Time  Current\n",
            "                                 Dload  Upload   Total   Spent    Left  Speed\n",
            "100   520  100   520    0     0   1478      0 --:--:-- --:--:-- --:--:--  1481\n",
            "Update environment...\n",
            "Install Java...\n",
            "Install Jupyter java kernel...\n"
          ]
        }
      ],
      "source": [
        "!curl -O https://raw.githubusercontent.com/deepjavalibrary/d2l-java/master/tools/colab_build.sh && bash colab_build.sh"
      ],
      "execution_count": 2
    },
    {
      "cell_type": "markdown",
      "source": [
        "### Java Version check"
      ],
      "metadata": {
        "id": "x8vnoWLV3M1O"
      }
    },
    {
      "cell_type": "code",
      "source": [
        "!java -version\n",
        "!javac -version"
      ],
      "metadata": {
        "id": "MZwcUZ05z5ZO",
        "outputId": "5aab9674-0bb3-4fed-ecf8-83991a4a0777",
        "colab": {
          "base_uri": "https://localhost:8080/"
        }
      },
      "execution_count": 1,
      "outputs": [
        {
          "output_type": "stream",
          "name": "stdout",
          "text": [
            "openjdk version \"11.0.27\" 2025-04-15\n",
            "OpenJDK Runtime Environment (build 11.0.27+6-post-Ubuntu-0ubuntu122.04)\n",
            "OpenJDK 64-Bit Server VM (build 11.0.27+6-post-Ubuntu-0ubuntu122.04, mixed mode, sharing)\n",
            "javac 11.0.27\n"
          ]
        }
      ]
    },
    {
      "cell_type": "markdown",
      "source": [
        "### Java program start"
      ],
      "metadata": {
        "id": "mZsYW2eJ3TXt"
      }
    },
    {
      "cell_type": "code",
      "source": [
        "%%writefile Hello1.java\n",
        "public class Hello1 {\n",
        "    public static void main(String[] args) {\n",
        "        System.out.println(\"Hello from Java in Colab 1\");\n",
        "    }\n",
        "}"
      ],
      "metadata": {
        "id": "BpgmNyq80Gby",
        "outputId": "bff606e5-569e-4d76-bc61-1332c5a666d7",
        "colab": {
          "base_uri": "https://localhost:8080/"
        }
      },
      "execution_count": 27,
      "outputs": [
        {
          "output_type": "stream",
          "name": "stdout",
          "text": [
            "Overwriting Hello1.java\n"
          ]
        }
      ]
    },
    {
      "cell_type": "markdown",
      "source": [],
      "metadata": {
        "id": "9vq-5QA63Sgf"
      }
    },
    {
      "cell_type": "code",
      "source": [
        "!javac Hello1.java"
      ],
      "metadata": {
        "id": "i5IP5rso12zw"
      },
      "execution_count": 28,
      "outputs": []
    },
    {
      "cell_type": "code",
      "source": [
        "!java Hello1"
      ],
      "metadata": {
        "id": "IJfusQAx1BWh",
        "outputId": "d230f8f4-9a70-4b79-a3b3-1b2ed1468987",
        "colab": {
          "base_uri": "https://localhost:8080/"
        }
      },
      "execution_count": 29,
      "outputs": [
        {
          "output_type": "stream",
          "name": "stdout",
          "text": [
            "Hello from Java in Colab 1\n"
          ]
        }
      ]
    }
  ],
  "metadata": {
    "kernelspec": {
      "display_name": "Python 3",
      "language": "python",
      "name": "python3"
    },
    "language_info": {
      "codemirror_mode": {
        "name": "ipython",
        "version": 3
      },
      "file_extension": ".py",
      "mimetype": "text/x-python",
      "name": "python",
      "nbconvert_exporter": "python",
      "pygments_lexer": "ipython3",
      "version": "3.9.4"
    },
    "colab": {
      "provenance": []
    }
  },
  "nbformat": 4,
  "nbformat_minor": 0
}